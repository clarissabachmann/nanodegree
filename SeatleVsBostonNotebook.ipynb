{
 "cells": [
  {
   "cell_type": "markdown",
   "metadata": {},
   "source": [
    "Investigation into AirBnB prices in Boston and Seattle"
   ]
  },
  {
   "cell_type": "raw",
   "metadata": {},
   "source": [
    "In the following notebook we will be looking at airBnB data from 2 cities (Boston and Seattle), first separately\n",
    "and then in comparison to one another. The investigation will focus on price and whether certain factors can be used to predictthe price of a property. Also looking into differences in price between the two cities, to see whether there is a significant difference in price between the two cities.\n",
    "Business Questions:\n",
    " 1. Do ratings influence price in Seatle and Boston? Are more highly rated properties more expensive?\n",
    " 2. Do number of bedrooms, bathrooms, or number of guests that a property can accommodate influence price in Boston \n",
    "    or Seatle? Does the size of a property effect its price, can the data be used to corroborate \n",
    "    this?\n",
    " 3. Overall do Seattle and Boston differ in prices? Is a certain city more expensive in general?"
   ]
  },
  {
   "cell_type": "code",
   "execution_count": 1,
   "metadata": {},
   "outputs": [],
   "source": [
    "#read in packages\n",
    "import pandas as pd\n",
    "import matplotlib.pyplot as plt\n",
    "from sklearn.linear_model import LinearRegression\n",
    "from sklearn.model_selection import train_test_split\n",
    "from sklearn.metrics import r2_score\n",
    "import scipy.stats as sc"
   ]
  },
  {
   "cell_type": "code",
   "execution_count": 8,
   "metadata": {},
   "outputs": [
    {
     "name": "stdout",
     "output_type": "stream",
     "text": [
      "      price  review_scores_rating  review_scores_accuracy  \\\n",
      "0      85.0                  95.0                    10.0   \n",
      "1     150.0                  96.0                    10.0   \n",
      "2     975.0                  97.0                    10.0   \n",
      "4     450.0                  92.0                     9.0   \n",
      "5     120.0                  95.0                    10.0   \n",
      "...     ...                   ...                     ...   \n",
      "3810  154.0                  92.0                     9.0   \n",
      "3811   65.0                 100.0                     9.0   \n",
      "3812   95.0                  96.0                    10.0   \n",
      "3813  359.0                  80.0                     8.0   \n",
      "3814   79.0                 100.0                    10.0   \n",
      "\n",
      "      review_scores_cleanliness  review_scores_checkin  \\\n",
      "0                          10.0                   10.0   \n",
      "1                          10.0                   10.0   \n",
      "2                          10.0                   10.0   \n",
      "4                           9.0                   10.0   \n",
      "5                          10.0                   10.0   \n",
      "...                         ...                    ...   \n",
      "3810                        8.0                   10.0   \n",
      "3811                        8.0                   10.0   \n",
      "3812                       10.0                   10.0   \n",
      "3813                       10.0                    4.0   \n",
      "3814                       10.0                   10.0   \n",
      "\n",
      "      review_scores_communication  review_scores_location  review_scores_value  \n",
      "0                            10.0                     9.0                 10.0  \n",
      "1                            10.0                    10.0                 10.0  \n",
      "2                            10.0                    10.0                 10.0  \n",
      "4                            10.0                     9.0                  9.0  \n",
      "5                            10.0                    10.0                 10.0  \n",
      "...                           ...                     ...                  ...  \n",
      "3810                         10.0                    10.0                  8.0  \n",
      "3811                         10.0                    10.0                 10.0  \n",
      "3812                         10.0                     9.0                 10.0  \n",
      "3813                          8.0                    10.0                  8.0  \n",
      "3814                         10.0                    10.0                 10.0  \n",
      "\n",
      "[3158 rows x 8 columns]\n"
     ]
    }
   ],
   "source": [
    "#Initial investigation of Seattle data and clean up of nulls and unnecessary characters: for investigation into\n",
    "#whether ratings can be used to predict price\n",
    "dfListingsSeattle = pd.read_csv('/Users/clarissa/Documents/NanoDegree/seattle/listings.csv')\n",
    "\n",
    "#get a list of columns in order to get drop unnecessary columns\n",
    "describeListingsSeattle = dfListingsSeattle.columns\n",
    "\n",
    "dfListingsReviewsSeattle = dfListingsSeattle[['price', 'weekly_price', 'monthly_price', 'review_scores_rating', 'review_scores_accuracy', 'review_scores_cleanliness',\n",
    "                                'review_scores_checkin', 'review_scores_communication', 'review_scores_location', 'review_scores_value']]\n",
    "dfCountRow = dfListingsReviewsSeattle.count()\n",
    "dfCountNull = dfListingsReviewsSeattle.isnull().sum()\n",
    "\n",
    "#large amount of nulls in weekly and monthly prince so will drop columns\n",
    "dfListingsReviewsSeattle = dfListingsReviewsSeattle[['price', 'review_scores_rating', 'review_scores_accuracy', 'review_scores_cleanliness',\n",
    "                                        'review_scores_checkin', 'review_scores_communication', 'review_scores_location', 'review_scores_value']]\n",
    "\n",
    "#drop remaining nulls as their aren't too many and interpolation doesn't make much sense without other factors being considered\n",
    "dfListingsReviewsSeattle = dfListingsReviewsSeattle.dropna(axis=0, subset=['review_scores_rating', 'review_scores_accuracy', 'review_scores_cleanliness',\n",
    "                                'review_scores_checkin', 'review_scores_communication', 'review_scores_location', 'review_scores_value'], how = 'any')\n",
    "\n",
    "#clean up price column as it contains $ and , which mean datatype cannot be numerical\n",
    "dfListingsReviewsSeattle.loc[:, 'price'] = dfListingsReviewsSeattle['price'].str.replace(\"$\", \"\")\n",
    "dfListingsReviewsSeattle.loc[:, 'price'] = dfListingsReviewsSeattle['price'].str.replace(r\",\",\"\")\n",
    "dfListingsReviewsSeattle.loc[:, 'price'] = dfListingsReviewsSeattle['price'].astype(float)\n",
    "\n",
    "print(dfListingsReviewsSeattle)"
   ]
  },
  {
   "cell_type": "code",
   "execution_count": 3,
   "metadata": {},
   "outputs": [
    {
     "name": "stdout",
     "output_type": "stream",
     "text": [
      "                                price  review_scores_rating  \\\n",
      "price                        1.000000              0.054958   \n",
      "review_scores_rating         0.054958              1.000000   \n",
      "review_scores_accuracy       0.018783              0.622438   \n",
      "review_scores_cleanliness    0.054069              0.642380   \n",
      "review_scores_checkin        0.007853              0.521914   \n",
      "review_scores_communication  0.010100              0.543626   \n",
      "review_scores_location       0.074600              0.368714   \n",
      "review_scores_value         -0.041563              0.696288   \n",
      "\n",
      "                             review_scores_accuracy  \\\n",
      "price                                      0.018783   \n",
      "review_scores_rating                       0.622438   \n",
      "review_scores_accuracy                     1.000000   \n",
      "review_scores_cleanliness                  0.544217   \n",
      "review_scores_checkin                      0.407205   \n",
      "review_scores_communication                0.423786   \n",
      "review_scores_location                     0.268242   \n",
      "review_scores_value                        0.563959   \n",
      "\n",
      "                             review_scores_cleanliness  review_scores_checkin  \\\n",
      "price                                         0.054069               0.007853   \n",
      "review_scores_rating                          0.642380               0.521914   \n",
      "review_scores_accuracy                        0.544217               0.407205   \n",
      "review_scores_cleanliness                     1.000000               0.398625   \n",
      "review_scores_checkin                         0.398625               1.000000   \n",
      "review_scores_communication                   0.388338               0.696322   \n",
      "review_scores_location                        0.278428               0.241397   \n",
      "review_scores_value                           0.524236               0.403223   \n",
      "\n",
      "                             review_scores_communication  \\\n",
      "price                                           0.010100   \n",
      "review_scores_rating                            0.543626   \n",
      "review_scores_accuracy                          0.423786   \n",
      "review_scores_cleanliness                       0.388338   \n",
      "review_scores_checkin                           0.696322   \n",
      "review_scores_communication                     1.000000   \n",
      "review_scores_location                          0.285033   \n",
      "review_scores_value                             0.464171   \n",
      "\n",
      "                             review_scores_location  review_scores_value  \n",
      "price                                      0.074600            -0.041563  \n",
      "review_scores_rating                       0.368714             0.696288  \n",
      "review_scores_accuracy                     0.268242             0.563959  \n",
      "review_scores_cleanliness                  0.278428             0.524236  \n",
      "review_scores_checkin                      0.241397             0.403223  \n",
      "review_scores_communication                0.285033             0.464171  \n",
      "review_scores_location                     1.000000             0.369699  \n",
      "review_scores_value                        0.369699             1.000000  \n"
     ]
    }
   ],
   "source": [
    "#Now data is filtred and cleaned up can first look at whether the price and reviews are correlated\n",
    "corr = dfListingsReviewsSeattle.corr(method='pearson')\n",
    "print(corr)"
   ]
  },
  {
   "cell_type": "raw",
   "metadata": {},
   "source": [
    "#Price does not seem to be strongly correlated with any of the reviews: suggesting that other factors may better\n",
    "#explain price. However certain reviews do have some stronger correlation, suggesting that some subcategory reviews do\n",
    "#have some influence on the overall review with the strong correlation for overall review being between cleanliness\n",
    "#rating and value rating"
   ]
  },
  {
   "cell_type": "code",
   "execution_count": 9,
   "metadata": {},
   "outputs": [
    {
     "name": "stdout",
     "output_type": "stream",
     "text": [
      "0.014350710890825957\n"
     ]
    }
   ],
   "source": [
    "#While correlations are low lets continue to see if any of these scores could be used to predict price\n",
    "X = dfListingsReviewsSeattle[['review_scores_rating', 'review_scores_accuracy', 'review_scores_cleanliness',\n",
    "                        'review_scores_checkin', 'review_scores_communication', 'review_scores_location', 'review_scores_value']]\n",
    "\n",
    "y = dfListingsReviewsSeattle['price']\n",
    "\n",
    "# Split into train and test\n",
    "X_train, X_test, y_train, y_test = train_test_split(X, y, test_size=.30, random_state=42)\n",
    "\n",
    "#apply model\n",
    "lm_model = LinearRegression(normalize=True)  # Instantiate\n",
    "lm_model.fit(X_train, y_train)  # Fit\n",
    "\n",
    "# Predict and score the model\n",
    "y_test_preds = lm_model.predict(X_test)\n",
    "\n",
    "#get r score\n",
    "RscoreSeattle = r2_score(y_test, y_test_preds)\n",
    "print(RscoreSeattle)\n"
   ]
  },
  {
   "cell_type": "raw",
   "metadata": {},
   "source": [
    "The R squared is very low suggesting that reviews cannot be used to predict the price of the property\n",
    "So we must look at other possible factors.\n",
    "A strong influence would number of rooms or bathrooms"
   ]
  },
  {
   "cell_type": "code",
   "execution_count": 11,
   "metadata": {},
   "outputs": [
    {
     "name": "stdout",
     "output_type": "stream",
     "text": [
      "          price  accommodates  bedrooms  bathrooms\n",
      "id                                                \n",
      "241032     85.0             4       1.0        1.0\n",
      "953595    150.0             4       1.0        1.0\n",
      "3308979   975.0            11       5.0        4.5\n",
      "7421966   100.0             3       0.0        1.0\n",
      "278830    450.0             6       3.0        2.0\n",
      "...         ...           ...       ...        ...\n",
      "8101950   359.0             6       3.0        2.0\n",
      "8902327    79.0             4       1.0        1.0\n",
      "10267360   93.0             2       1.0        1.0\n",
      "9604740    99.0             2       0.0        1.0\n",
      "10208623   87.0             3       2.0        1.5\n",
      "\n",
      "[3796 rows x 4 columns]\n"
     ]
    }
   ],
   "source": [
    "#Set up new DF to investigate relationship betweeb ==\n",
    "dfRoomsSeattle = dfListingsSeattle[['id', 'price', 'accommodates', 'bedrooms', 'bathrooms']]\n",
    "dfRoomsSeattle = dfRoomsSeattle.set_index('id')\n",
    "\n",
    "#clean up price columns\n",
    "#clean up price column\n",
    "dfRoomsSeattle.loc[:, 'price'] = dfRoomsSeattle['price'].str.replace(\"$\", \"\")\n",
    "dfRoomsSeattle.loc[:, 'price'] = dfRoomsSeattle['price'].str.replace(r\",\",\"\")\n",
    "dfRoomsSeattle.loc[:, 'price'] = dfRoomsSeattle['price'].astype(float)\n",
    "\n",
    "#count nulls to see how best to deal with them\n",
    "dfCountNull = dfRoomsSeattle.isnull().sum()\n",
    "#very few nulls so just drop them\n",
    "dfRoomsSeattle = dfRoomsSeattle.dropna(axis=0, how='any')\n",
    "print(dfRoomsSeattle)\n"
   ]
  },
  {
   "cell_type": "code",
   "execution_count": 12,
   "metadata": {},
   "outputs": [
    {
     "name": "stdout",
     "output_type": "stream",
     "text": [
      "                 price  accommodates  bedrooms  bathrooms\n",
      "price         1.000000      0.651988  0.628169   0.516493\n",
      "accommodates  0.651988      1.000000  0.771654   0.538664\n",
      "bedrooms      0.628169      0.771654  1.000000   0.610937\n",
      "bathrooms     0.516493      0.538664  0.610937   1.000000\n"
     ]
    }
   ],
   "source": [
    "#Check out whether any included measures are correlated\n",
    "corr = dfRoomsSeattle.corr(method='pearson')\n",
    "print(corr)"
   ]
  },
  {
   "cell_type": "raw",
   "metadata": {},
   "source": [
    "Has stronger correlations than price and ratings"
   ]
  },
  {
   "cell_type": "code",
   "execution_count": 13,
   "metadata": {},
   "outputs": [
    {
     "name": "stdout",
     "output_type": "stream",
     "text": [
      "0.4843539870914997\n"
     ]
    }
   ],
   "source": [
    "X = dfRoomsSeattle[['accommodates', 'bedrooms', 'bathrooms']]\n",
    "X.reset_index(drop=True, inplace=True)\n",
    "y = dfRoomsSeattle[['price']]\n",
    "X_train, X_test, y_train, y_test = train_test_split(X, y, test_size=.30, random_state=42)\n",
    "\n",
    "#apply model\n",
    "lm_model = LinearRegression(normalize=True)  # Instantiate\n",
    "lm_model.fit(X_train, y_train)  # Fit\n",
    "\n",
    "# Predict and score the model\n",
    "y_test_preds = lm_model.predict(X_test)\n",
    "\n",
    "#get r score\n",
    "RscoreSeattle = r2_score(y_test, y_test_preds)\n",
    "print(RscoreSeattle)"
   ]
  },
  {
   "cell_type": "raw",
   "metadata": {},
   "source": [
    "R value is stronger and therefore a better predictor of price than accomodation but still less than 0.5"
   ]
  },
  {
   "cell_type": "raw",
   "metadata": {},
   "source": [
    "Now we will look into the same questions in Boston to see if either reviews or number of guests/rooms can better \n",
    "explain price of airbnbs in Boston"
   ]
  },
  {
   "cell_type": "code",
   "execution_count": 15,
   "metadata": {},
   "outputs": [
    {
     "name": "stdout",
     "output_type": "stream",
     "text": [
      "      price  review_scores_rating  review_scores_accuracy  \\\n",
      "1      65.0                  94.0                    10.0   \n",
      "2      65.0                  98.0                    10.0   \n",
      "3      75.0                 100.0                    10.0   \n",
      "4      79.0                  99.0                    10.0   \n",
      "5      75.0                 100.0                    10.0   \n",
      "...     ...                   ...                     ...   \n",
      "3574   68.0                  80.0                     8.0   \n",
      "3575   69.0                  70.0                     8.0   \n",
      "3578   85.0                 100.0                    10.0   \n",
      "3580   69.0                  90.0                    10.0   \n",
      "3583   65.0                  90.0                     9.0   \n",
      "\n",
      "      review_scores_cleanliness  review_scores_checkin  \\\n",
      "1                           9.0                   10.0   \n",
      "2                           9.0                   10.0   \n",
      "3                          10.0                   10.0   \n",
      "4                          10.0                   10.0   \n",
      "5                          10.0                   10.0   \n",
      "...                         ...                    ...   \n",
      "3574                        8.0                    8.0   \n",
      "3575                        7.0                    9.0   \n",
      "3578                       10.0                   10.0   \n",
      "3580                       10.0                   10.0   \n",
      "3583                        8.0                    9.0   \n",
      "\n",
      "      review_scores_communication  review_scores_location  review_scores_value  \n",
      "1                            10.0                     9.0                  9.0  \n",
      "2                            10.0                     9.0                 10.0  \n",
      "3                            10.0                    10.0                 10.0  \n",
      "4                            10.0                     9.0                 10.0  \n",
      "5                            10.0                     9.0                 10.0  \n",
      "...                           ...                     ...                  ...  \n",
      "3574                          6.0                    10.0                  8.0  \n",
      "3575                         10.0                     8.0                  7.0  \n",
      "3578                         10.0                    10.0                 10.0  \n",
      "3580                         10.0                     8.0                  9.0  \n",
      "3583                          9.0                     8.0                  7.0  \n",
      "\n",
      "[2757 rows x 8 columns]\n"
     ]
    }
   ],
   "source": [
    "dfListingsBoston = pd.read_csv('/Users/clarissa/Documents/NanoDegree/boston/listings.csv')\n",
    "\n",
    "#describeListings = dfListings.describe()\n",
    "#trim dataframe to necessary columns\n",
    "dfListingsReviewsBoston = dfListingsBoston[['id', 'price', 'weekly_price', 'monthly_price', 'review_scores_rating', 'review_scores_accuracy', 'review_scores_cleanliness',\n",
    "                                'review_scores_checkin', 'review_scores_communication', 'review_scores_location', 'review_scores_value']]\n",
    "dfCountRow = dfListingsReviewsBoston.count()\n",
    "\n",
    "dfCountNull = dfListingsReviewsBoston.isnull().sum()\n",
    "#print(dfCountRow)\n",
    "#looking at the counts there are clearly a lot of nulls\n",
    "\n",
    "#large amount of nulls in weekly and monthly prince so will drop columns\n",
    "dfListingsReviewsBoston = dfListingsReviewsBoston[['price', 'review_scores_rating', 'review_scores_accuracy', 'review_scores_cleanliness',\n",
    "                                'review_scores_checkin', 'review_scores_communication', 'review_scores_location', 'review_scores_value']]\n",
    "\n",
    "#drop columns where all ratings are null\n",
    "dfListingsReviewsBoston = dfListingsReviewsBoston.dropna(axis=0, subset=['review_scores_rating', 'review_scores_accuracy', 'review_scores_cleanliness',\n",
    "                                'review_scores_checkin', 'review_scores_communication', 'review_scores_location', 'review_scores_value'], how = 'any')\n",
    "\n",
    "#clean up the price columns\n",
    "dfListingsReviewsBoston.loc[:, 'price'] = dfListingsReviewsBoston['price'].str.replace(\"$\", \"\")\n",
    "dfListingsReviewsBoston.loc[:, 'price'] = dfListingsReviewsBoston['price'].str.replace(r\",\",\"\")\n",
    "dfListingsReviewsBoston.loc[:, 'price'] = dfListingsReviewsBoston['price'].astype(float)\n",
    "\n",
    "print(dfListingsReviewsBoston)"
   ]
  },
  {
   "cell_type": "code",
   "execution_count": 8,
   "metadata": {},
   "outputs": [
    {
     "name": "stdout",
     "output_type": "stream",
     "text": [
      "                                price  review_scores_rating  \\\n",
      "price                        1.000000              0.107456   \n",
      "review_scores_rating         0.107456              1.000000   \n",
      "review_scores_accuracy       0.041541              0.705336   \n",
      "review_scores_cleanliness    0.146062              0.756364   \n",
      "review_scores_checkin       -0.003513              0.584612   \n",
      "review_scores_communication  0.005360              0.600403   \n",
      "review_scores_location       0.194026              0.459791   \n",
      "review_scores_value          0.013243              0.786699   \n",
      "\n",
      "                             review_scores_accuracy  \\\n",
      "price                                      0.041541   \n",
      "review_scores_rating                       0.705336   \n",
      "review_scores_accuracy                     1.000000   \n",
      "review_scores_cleanliness                  0.644697   \n",
      "review_scores_checkin                      0.468393   \n",
      "review_scores_communication                0.492961   \n",
      "review_scores_location                     0.325832   \n",
      "review_scores_value                        0.666946   \n",
      "\n",
      "                             review_scores_cleanliness  review_scores_checkin  \\\n",
      "price                                         0.146062              -0.003513   \n",
      "review_scores_rating                          0.756364               0.584612   \n",
      "review_scores_accuracy                        0.644697               0.468393   \n",
      "review_scores_cleanliness                     1.000000               0.461744   \n",
      "review_scores_checkin                         0.461744               1.000000   \n",
      "review_scores_communication                   0.430598               0.674360   \n",
      "review_scores_location                        0.353457               0.279941   \n",
      "review_scores_value                           0.656315               0.496275   \n",
      "\n",
      "                             review_scores_communication  \\\n",
      "price                                           0.005360   \n",
      "review_scores_rating                            0.600403   \n",
      "review_scores_accuracy                          0.492961   \n",
      "review_scores_cleanliness                       0.430598   \n",
      "review_scores_checkin                           0.674360   \n",
      "review_scores_communication                     1.000000   \n",
      "review_scores_location                          0.288199   \n",
      "review_scores_value                             0.527798   \n",
      "\n",
      "                             review_scores_location  review_scores_value  \n",
      "price                                      0.194026             0.013243  \n",
      "review_scores_rating                       0.459791             0.786699  \n",
      "review_scores_accuracy                     0.325832             0.666946  \n",
      "review_scores_cleanliness                  0.353457             0.656315  \n",
      "review_scores_checkin                      0.279941             0.496275  \n",
      "review_scores_communication                0.288199             0.527798  \n",
      "review_scores_location                     1.000000             0.442244  \n",
      "review_scores_value                        0.442244             1.000000  \n"
     ]
    }
   ],
   "source": [
    "#Now to look at the correlations as done previously\n",
    "corr = dfListingsReviewsBoston.corr(method='pearson')\n",
    "print(corr)"
   ]
  },
  {
   "cell_type": "raw",
   "metadata": {},
   "source": [
    "Like with the seatle data the correlation between price and ratings are low but there are some higher correlations\n",
    "within the reviews there are however some stronger correlations suggesting that the sub-rating scores influence\n",
    "the overall rating score more than in Seatle\n",
    "Time to proceed to the further analysis to see if ratings can predict price"
   ]
  },
  {
   "cell_type": "code",
   "execution_count": 13,
   "metadata": {},
   "outputs": [
    {
     "name": "stdout",
     "output_type": "stream",
     "text": [
      "0.07960652680184144\n",
      "                       est_int      coefs  abs_coefs\n",
      "5       review_scores_location  25.919954  25.919954\n",
      "6          review_scores_value -25.084573  25.084573\n",
      "2    review_scores_cleanliness  16.984319  16.984319\n",
      "3        review_scores_checkin -14.705736  14.705736\n",
      "1       review_scores_accuracy  -8.496034   8.496034\n",
      "4  review_scores_communication  -4.078865   4.078865\n",
      "0         review_scores_rating   2.176032   2.176032\n"
     ]
    }
   ],
   "source": [
    "X = dfListingsReviewsBoston[['review_scores_rating', 'review_scores_accuracy', 'review_scores_cleanliness',\n",
    "                        'review_scores_checkin', 'review_scores_communication', 'review_scores_location', 'review_scores_value']]\n",
    "\n",
    "y = dfListingsReviewsBoston['price']\n",
    "\n",
    "\n",
    "# Split into train and test\n",
    "X_train, X_test, y_train, y_test = train_test_split(X, y, test_size=.30, random_state=42)\n",
    "\n",
    "#apply model\n",
    "lm_model = LinearRegression(normalize=True)  # Instantiate\n",
    "lm_model.fit(X_train, y_train)  # Fit\n",
    "\n",
    "# Predict and score the model\n",
    "y_test_preds = lm_model.predict(X_test)\n",
    "\n",
    "#get r score\n",
    "Rscore = r2_score(y_test, y_test_preds)\n",
    "print(Rscore)\n",
    "\n",
    "\n"
   ]
  },
  {
   "cell_type": "raw",
   "metadata": {},
   "source": [
    "While the R value is marginally higher its still not high enough to really say anything about the data. \n",
    "Time investigate whether number of rooms influence price more than ratings in boston"
   ]
  },
  {
   "cell_type": "code",
   "execution_count": 10,
   "metadata": {},
   "outputs": [
    {
     "name": "stdout",
     "output_type": "stream",
     "text": [
      "          price  accommodates  bedrooms  bathrooms\n",
      "id                                                \n",
      "12147973  250.0             4       2.0        1.5\n",
      "3075044    65.0             2       1.0        1.0\n",
      "6976       65.0             2       1.0        1.0\n",
      "1436513    75.0             4       1.0        1.0\n",
      "7651065    79.0             2       1.0        1.5\n",
      "...         ...           ...       ...        ...\n",
      "8373729    69.0             3       1.0        1.0\n",
      "14844274  150.0             2       1.0        1.0\n",
      "14585486  198.0             4       1.0        1.0\n",
      "14603878   65.0             2       1.0        1.0\n",
      "14504422   65.0             2       1.0        1.0\n",
      "\n",
      "[3561 rows x 4 columns]\n"
     ]
    }
   ],
   "source": [
    "dfRoomsBoston = dfListingsBoston[['id', 'price', 'accommodates', 'bedrooms', 'bathrooms']]\n",
    "dfRoomsBoston = dfRoomsBoston.set_index('id')\n",
    "\n",
    "#count nulls to see how best to deal with them\n",
    "dfCountNull = dfRoomsBoston.isnull().sum()\n",
    "#very few nulls so just drop them\n",
    "dfRoomsBoston = dfRoomsBoston.dropna(axis=0, how='any')\n",
    "\n",
    "\n",
    "#clean up price column\n",
    "dfRoomsBoston.loc[:, 'price'] = dfRoomsBoston['price'].str.replace(\"$\", \"\")\n",
    "dfRoomsBoston.loc[:, 'price'] = dfRoomsBoston['price'].str.replace(r\",\",\"\")\n",
    "dfRoomsBoston.loc[:, 'price'] = dfRoomsBoston['price'].astype(float)\n",
    "\n",
    "print(dfRoomsBoston)"
   ]
  },
  {
   "cell_type": "code",
   "execution_count": 11,
   "metadata": {},
   "outputs": [
    {
     "name": "stdout",
     "output_type": "stream",
     "text": [
      "                 price  accommodates  bedrooms  bathrooms\n",
      "price         1.000000      0.437756  0.384853   0.248699\n",
      "accommodates  0.437756      1.000000  0.725089   0.346448\n",
      "bedrooms      0.384853      0.725089  1.000000   0.430854\n",
      "bathrooms     0.248699      0.346448  0.430854   1.000000\n"
     ]
    }
   ],
   "source": [
    "#time to look at correlations\n",
    "corr = dfRoomsBoston.corr(method='pearson')\n",
    "print(corr)"
   ]
  },
  {
   "cell_type": "raw",
   "metadata": {},
   "source": [
    "They are a little more correlated than ratings and price but still not highly correlated. Interestingly number of\n",
    "bedrooms only correlates by 0.73 with number that a property can accomodate.\n",
    "Time to continue investigation"
   ]
  },
  {
   "cell_type": "code",
   "execution_count": 23,
   "metadata": {},
   "outputs": [
    {
     "name": "stdout",
     "output_type": "stream",
     "text": [
      "0.26678473538724456\n"
     ]
    }
   ],
   "source": [
    "X = dfRoomsBoston[['accommodates', 'bedrooms', 'bathrooms']]\n",
    "X.reset_index(drop=True, inplace=True)\n",
    "y = dfRoomsBoston[['price']]\n",
    "X_train, X_test, y_train, y_test = train_test_split(X, y, test_size=.30, random_state=42)\n",
    "\n",
    "#apply model\n",
    "lm_model = LinearRegression(normalize=True)  # Instantiate\n",
    "lm_model.fit(X_train, y_train)  # Fit\n",
    "\n",
    "# Predict and score the model\n",
    "y_test_preds = lm_model.predict(X_test)\n",
    "\n",
    "#get r score\n",
    "Rscore = r2_score(y_test, y_test_preds)\n",
    "print(Rscore)\n"
   ]
  },
  {
   "cell_type": "raw",
   "metadata": {},
   "source": [
    "This is a weaker R squared than noticed in Seatle suggesting that rooms and number of guests a location can \n",
    "accommodate do not seem to influence price"
   ]
  },
  {
   "cell_type": "raw",
   "metadata": {},
   "source": [
    "Doesn't look like either ratings nor number of rooms can be effectively used to predict price price in either location\n",
    "A final investigation is going to compare the data directly between Seatle and Boston too see if either location\n",
    "is generally more expensive or not"
   ]
  },
  {
   "cell_type": "code",
   "execution_count": 16,
   "metadata": {},
   "outputs": [],
   "source": [
    "#First lets create the required dataframes to investigate this\n",
    "#I've decided to include the number of people each flat accommodates in order to possibly use this for further\n",
    "#investigation as it was the measurement that correlated most strongly with price for both cities\n",
    "\n",
    "dfListingsBoston = dfListingsBoston[['price', 'accommodates']]\n",
    "dfListingsBoston.loc[:, 'price'] = dfListingsBoston['price'].str.replace(\"$\", \"\")\n",
    "dfListingsBoston.loc[:, 'price'] = dfListingsBoston['price'].str.replace(r\",\",\"\")\n",
    "dfListingsBoston.loc[:, 'price'] = dfListingsBoston['price'].astype(float)\n",
    "#no nulls\n",
    "dfCountNullBoston = dfListingsBoston.isnull().sum()\n",
    "#print((dfCountNullBoston))\n",
    "\n",
    "dfListingsSeattle = dfListingsSeattle[['price', 'accommodates']]\n",
    "describeSeattle = dfListingsSeattle['accommodates'].describe()\n",
    "dfListingsSeattle.loc[:, 'price'] = dfListingsSeattle['price'].str.replace(\"$\", \"\")\n",
    "dfListingsSeattle.loc[:, 'price'] = dfListingsSeattle['price'].str.replace(r\",\",\"\")\n",
    "dfListingsSeattle.loc[:, 'price'] = dfListingsSeattle['price'].astype(float)\n",
    "#no nulls\n",
    "dfCountNullBoston = dfListingsBoston.isnull().sum()"
   ]
  },
  {
   "cell_type": "code",
   "execution_count": 18,
   "metadata": {},
   "outputs": [
    {
     "name": "stdout",
     "output_type": "stream",
     "text": [
      "count    3818.000000\n",
      "mean        3.349398\n",
      "std         1.977599\n",
      "min         1.000000\n",
      "25%         2.000000\n",
      "50%         3.000000\n",
      "75%         4.000000\n",
      "max        16.000000\n",
      "Name: accommodates, dtype: float64\n",
      "count    3818.000000\n",
      "mean      127.976166\n",
      "std        90.250022\n",
      "min        20.000000\n",
      "25%        75.000000\n",
      "50%       100.000000\n",
      "75%       150.000000\n",
      "max      1000.000000\n",
      "Name: price, dtype: float64\n",
      "count    3585.000000\n",
      "mean        3.041283\n",
      "std         1.778929\n",
      "min         1.000000\n",
      "25%         2.000000\n",
      "50%         2.000000\n",
      "75%         4.000000\n",
      "max        16.000000\n",
      "Name: accommodates, dtype: float64\n",
      "count    3585.000000\n",
      "mean      173.925802\n",
      "std       148.331321\n",
      "min        10.000000\n",
      "25%        85.000000\n",
      "50%       150.000000\n",
      "75%       220.000000\n",
      "max      4000.000000\n",
      "Name: price, dtype: float64\n"
     ]
    }
   ],
   "source": [
    "#Now lets look at the descriptive stats for both locations\n",
    "describeSeattleAccommodates = dfListingsSeattle['accommodates'].describe()\n",
    "describeSeattlePrice = dfListingsSeattle['price'].describe()\n",
    "describeBostonAccommodate = dfListingsBoston['accommodates'].describe()\n",
    "describeBostonPrice = dfListingsBoston['price'].describe()\n",
    "print(describeSeattleAccommodates)\n",
    "print(describeSeattlePrice)\n",
    "print(describeBostonAccommodate)\n",
    "print(describeBostonPrice)"
   ]
  },
  {
   "cell_type": "code",
   "execution_count": 20,
   "metadata": {},
   "outputs": [
    {
     "name": "stdout",
     "output_type": "stream",
     "text": [
      "  descriptive_stats  price_seattle  price_boston\n",
      "0             count    3818.000000   3585.000000\n",
      "1              mean     127.976166    173.925802\n",
      "2               std      90.250022    148.331321\n",
      "3               min      20.000000     10.000000\n",
      "4               25%      75.000000     85.000000\n",
      "5               50%     100.000000    150.000000\n",
      "6               75%     150.000000    220.000000\n",
      "7               max    1000.000000   4000.000000\n"
     ]
    },
    {
     "data": {
      "image/png": "[encoded data removed]",
      "text/plain": [
       "<Figure size 432x288 with 1 Axes>"
      ]
     },
     "metadata": {
      "needs_background": "light"
     },
     "output_type": "display_data"
    }
   ],
   "source": [
    "data = {'descriptive_stats': ['count', 'mean', 'std', 'min', '25%', '50%', '75%', 'max'],\n",
    "         'price_seattle': [3818.000000, 127.976166, 90.250022, 20.000000, 75.000000, 100.000000, 150.000000, 1000.000000],\n",
    "         'price_boston': [3585.000000, 173.925802, 148.331321, 10.000000, 85.000000, 150.000000, 220.000000, 4000.000000]}\n",
    "dfDescribePlot = pd.DataFrame(data)\n",
    "print(dfDescribePlot)\n",
    "dfDescribePlot.plot(x='descriptive_stats', y=['price_seattle', 'price_boston'], kind='bar')\n",
    "plt.ioff()\n",
    "plt.show()"
   ]
  },
  {
   "cell_type": "markdown",
   "metadata": {},
   "source": [
    "Looking at the desriptive stats the average number of people each property accommodates is very similar yet\n",
    "there is a clear difference between average cost with Boston have higher average price than Seatle"
   ]
  },
  {
   "cell_type": "code",
   "execution_count": 21,
   "metadata": {},
   "outputs": [
    {
     "name": "stdout",
     "output_type": "stream",
     "text": [
      "ttest_ind between two locations:            t = -15.9777  p = 2.80437e-56\n"
     ]
    }
   ],
   "source": [
    "# to further look at this lets see if the means of price statistically differ from one another\n",
    "t, p = sc.ttest_ind(dfListingsSeattle['price'], dfListingsBoston['price'], equal_var=False)\n",
    "print(\"ttest_ind between two locations:            t = %g  p = %g\" % (t, p))"
   ]
  },
  {
   "cell_type": "markdown",
   "metadata": {},
   "source": [
    "Clearly are different from one another. However lets break this down and see if this difference is consistent across \n",
    "properties that are able to accommodate a different number of guests. Since there is a large range of number\n",
    "of people that can be accommodated across properties (1-16) so will create 3 subgroups to compare"
   ]
  },
  {
   "cell_type": "code",
   "execution_count": 22,
   "metadata": {},
   "outputs": [
    {
     "name": "stdout",
     "output_type": "stream",
     "text": [
      "       price_seatle_1  accommodates_seatle_1  price_seatle_10  \\\n",
      "count      256.000000                  256.0       541.000000   \n",
      "mean        58.375000                    1.0       234.353050   \n",
      "std         28.285796                    0.0       126.489742   \n",
      "min         25.000000                    1.0        38.000000   \n",
      "25%         40.000000                    1.0       150.000000   \n",
      "50%         50.000000                    1.0       200.000000   \n",
      "75%         65.000000                    1.0       285.000000   \n",
      "max        250.000000                    1.0       950.000000   \n",
      "\n",
      "       accommodates_seatle_10        price  accommodates  price_boston_1  \\\n",
      "count              541.000000  2994.000000   2994.000000      439.000000   \n",
      "mean                 6.792976   112.399466      2.841683       85.507973   \n",
      "std                  1.142458    62.218669      1.013269      104.699916   \n",
      "min                  6.000000    20.000000      2.000000       20.000000   \n",
      "25%                  6.000000    75.000000      2.000000       48.000000   \n",
      "50%                  6.000000    99.000000      2.000000       65.000000   \n",
      "75%                  8.000000   135.000000      4.000000       90.000000   \n",
      "max                 10.000000  1000.000000      5.000000     1372.000000   \n",
      "\n",
      "       accommodates_boston_1  price_boston_5  accommodates_boston_5  \\\n",
      "count                  439.0     2806.000000            2806.000000   \n",
      "mean                     1.0      171.857448               2.877762   \n",
      "std                      0.0      141.379880               1.046354   \n",
      "min                      1.0       10.000000               2.000000   \n",
      "25%                      1.0       95.000000               2.000000   \n",
      "50%                      1.0      150.000000               2.000000   \n",
      "75%                      1.0      210.000000               4.000000   \n",
      "max                      1.0     4000.000000               5.000000   \n",
      "\n",
      "       price_boston_10  accommodates_boston_10  \n",
      "count       326.000000              326.000000  \n",
      "mean        301.349693                6.782209  \n",
      "std         159.484652                1.181312  \n",
      "min          45.000000                6.000000  \n",
      "25%         200.000000                6.000000  \n",
      "50%         262.000000                6.000000  \n",
      "75%         350.000000                8.000000  \n",
      "max        1300.000000               10.000000  \n"
     ]
    }
   ],
   "source": [
    "#first split up the Boston data\n",
    "dfBoston1 = dfListingsBoston.loc[dfListingsBoston['accommodates'] == 1]\n",
    "dfBoston1Describe = dfBoston1.describe()\n",
    "dfBoston5 = dfListingsBoston.loc[(dfListingsBoston['accommodates'] <= 5) & (dfListingsBoston['accommodates'] > 1)]\n",
    "dfBoston5Describe = dfBoston5.describe()\n",
    "dfBoston10 = dfListingsBoston.loc[(dfListingsBoston['accommodates'] > 5) & (dfListingsBoston['accommodates'] <= 10)]\n",
    "dfBoston10Describe = dfBoston10.describe()\n",
    "\n",
    "#then split up the Seatle data\n",
    "dfSeattle1 = dfListingsSeattle.loc[dfListingsSeattle['accommodates'] == 1]\n",
    "dfSeattle1Describe = dfSeattle1.describe()\n",
    "dfSeattle5 = dfListingsSeattle.loc[(dfListingsSeattle['accommodates'] <= 5) & (dfListingsSeattle['accommodates'] > 1)]\n",
    "dfSeattle5Describe = dfSeattle5.describe()\n",
    "dfSeattle10 = dfListingsSeattle.loc[(dfListingsSeattle['accommodates'] <= 10) & (dfListingsSeattle['accommodates'] > 5)]\n",
    "dfSeattle10Describe = dfSeattle10.describe()\n",
    "#print(dfSeatle10Describe)\n",
    "#Now group all the described data into one dataframe\n",
    "dfDescribe = dfSeattle1Describe.join(dfSeattle10Describe, lsuffix='_seatle_1', rsuffix='_seatle_10')\n",
    "dfDescribe = dfDescribe.join(dfSeattle5Describe, lsuffix=' ', rsuffix='_seatle_5')\n",
    "dfDescribe = dfDescribe.join(dfBoston1Describe, lsuffix='', rsuffix='_boston_1')\n",
    "dfDescribe = dfDescribe.join(dfBoston5Describe, lsuffix='', rsuffix='_boston_5')\n",
    "dfDescribe = dfDescribe.join(dfBoston10Describe, lsuffix='', rsuffix='_boston_10')\n",
    "print(dfDescribe)"
   ]
  },
  {
   "cell_type": "code",
   "execution_count": 23,
   "metadata": {},
   "outputs": [
    {
     "name": "stdout",
     "output_type": "stream",
     "text": [
      "  descriptive_stats  price_seattle_1  price_seattle_5  price_seattle_10  \\\n",
      "0             count       256.000000      2994.000000        541.000000   \n",
      "1              mean        58.375000       112.399466        234.353050   \n",
      "2               std        28.285796        62.218669        126.489742   \n",
      "3               min        25.000000        20.000000         38.000000   \n",
      "4               25%        40.000000        75.000000        150.000000   \n",
      "5               50%        50.000000        99.000000        200.000000   \n",
      "6               75%        65.000000       135.000000        285.000000   \n",
      "7               max       250.000000      1000.000000        950.000000   \n",
      "\n",
      "   price_boston_1  price_boston_5  price_boston_10  \n",
      "0      439.000000     2806.000000       326.000000  \n",
      "1       85.507973      171.857448       301.349693  \n",
      "2      104.699916      141.379880       159.484652  \n",
      "3       20.000000       10.000000        45.000000  \n",
      "4       48.000000       95.000000       200.000000  \n",
      "5       65.000000      150.000000       262.000000  \n",
      "6       90.000000      210.000000       350.000000  \n",
      "7     1372.000000     4000.000000      1300.000000  \n"
     ]
    },
    {
     "data": {
      "image/png": "[encoded data removed]",
      "text/plain": [
       "<Figure size 432x288 with 1 Axes>"
      ]
     },
     "metadata": {
      "needs_background": "light"
     },
     "output_type": "display_data"
    }
   ],
   "source": [
    "#Next create a data frame with all required descriptive stats to see how the different sizes of properties differ\n",
    "#in price between locations\n",
    "data = {'descriptive_stats': ['count', 'mean', 'std', 'min', '25%', '50%', '75%', 'max'],\n",
    "         'price_seattle_1': [256.00000, 58.375000, 28.285796, 25.000000, 40.000000, 50.000000, 65.000000, 250.000000],\n",
    "         'price_seattle_5': [2994.00000, 112.399466, 62.218669, 20.000000, 75.000000, 99.000000, 135.000000, 1000.000000],\n",
    "         'price_seattle_10': [541.00000, 234.353050, 126.489742, 38.000000, 150.000000, 200.000000, 285.000000, 950.000000],\n",
    "         'price_boston_1': [439.000000, 85.507973, 104.699916, 20.000000, 48.000000, 65.000000, 90.000000, 1372.000000],\n",
    "         'price_boston_5': [2806.000000 , 171.857448, 141.379880, 10.000000, 95.000000, 150.000000, 210.000000, 4000.000000],\n",
    "         'price_boston_10': [326.000000  , 301.349693, 159.484652, 45.000000, 200.000000, 262.000000, 350.000000, 1300.000000]}\n",
    "dfDescribePlot = pd.DataFrame(data)\n",
    "print(dfDescribePlot)\n",
    "dfDescribePlot.plot(x='descriptive_stats', y=['price_seattle_1', 'price_seattle_5', 'price_seattle_10', 'price_boston_1', 'price_boston_5', 'price_boston_10'], kind='bar')\n",
    "plt.ioff()\n",
    "plt.show()"
   ]
  },
  {
   "cell_type": "raw",
   "metadata": {},
   "source": [
    "#Looking at the bar chart can see that both Seatle and Boston have the most properties that accommodate between 2-5 \n",
    "#guests. The mean price does increase per guests accommodated in both cities. However the highest price is not in the\n",
    "#5-10 range but in the 2-5 range in Boston that oddly spikes to 4000. This suggests that there is an outliar in this\n",
    "#group that could influence statistical analysis. For further analysis would be good to investigate a type of outliar\n",
    "#handling. Lets see how the mean price in each size grouping compare between cities to see if there is a difference\n",
    "#between prices in the specific size groups"
   ]
  },
  {
   "cell_type": "code",
   "execution_count": 24,
   "metadata": {},
   "outputs": [
    {
     "name": "stdout",
     "output_type": "stream",
     "text": [
      "ttest_ind between 1 visitor:            t = -5.11889  p = 4.28051e-07\n",
      "ttest_ind between 2-5 visitor:            t = -20.495  p = 1.25995e-88\n",
      "ttest_ind between 6-10 visitor:            t = -6.45882  p = 2.26613e-10\n"
     ]
    }
   ],
   "source": [
    "t, p = sc.ttest_ind(dfSeattle1['price'], dfBoston1['price'], equal_var=False)\n",
    "print(\"ttest_ind between 1 visitor:            t = %g  p = %g\" % (t, p))\n",
    "\n",
    "t, p = sc.ttest_ind(dfSeattle5['price'], dfBoston5['price'], equal_var=False)\n",
    "print(\"ttest_ind between 2-5 visitor:            t = %g  p = %g\" % (t, p))\n",
    "\n",
    "t, p = sc.ttest_ind(dfSeattle10['price'], dfBoston10['price'], equal_var=False)\n",
    "print(\"ttest_ind between 6-10 visitor:            t = %g  p = %g\" % (t, p))"
   ]
  },
  {
   "cell_type": "raw",
   "metadata": {},
   "source": [
    "Its clear that the difference in means remains between the cities even within the accommodation groupings\n",
    "suggesting the overall Boston is a more expensive city to rent an AirBnB"
   ]
  }
 ],
 "metadata": {
  "kernelspec": {
   "display_name": "Python 3",
   "language": "python",
   "name": "python3"
  },
  "language_info": {
   "codemirror_mode": {
    "name": "ipython",
    "version": 3
   },
   "file_extension": ".py",
   "mimetype": "text/x-python",
   "name": "python",
   "nbconvert_exporter": "python",
   "pygments_lexer": "ipython3",
   "version": "3.7.6"
  }
 },
 "nbformat": 4,
 "nbformat_minor": 4
}
